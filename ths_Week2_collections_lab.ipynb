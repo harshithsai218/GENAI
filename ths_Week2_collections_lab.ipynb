{
  "nbformat": 4,
  "nbformat_minor": 0,
  "metadata": {
    "colab": {
      "provenance": [],
      "include_colab_link": true
    },
    "kernelspec": {
      "name": "python3",
      "display_name": "Python 3"
    },
    "language_info": {
      "name": "python"
    }
  },
  "cells": [
    {
      "cell_type": "markdown",
      "metadata": {
        "id": "view-in-github",
        "colab_type": "text"
      },
      "source": [
        "<a href=\"https://colab.research.google.com/github/harshithsai218/GENAI/blob/main/ths_Week2_collections_lab.ipynb\" target=\"_parent\"><img src=\"https://colab.research.google.com/assets/colab-badge.svg\" alt=\"Open In Colab\"/></a>"
      ]
    },
    {
      "cell_type": "markdown",
      "source": [
        "#List"
      ],
      "metadata": {
        "id": "p4-zDKzk8NNg"
      }
    },
    {
      "cell_type": "code",
      "execution_count": null,
      "metadata": {
        "id": "YUoloRUH74nl"
      },
      "outputs": [],
      "source": [
        "#1. Write a Python program to sum all the items in a list.\n",
        "# 2. Write a Python program to multiply all the items in a list.\n",
        "# 3. Write a Python program to get the largest number from a list.\n",
        "# 4. Write a Python program to get the smallest number from a list.\n",
        "# 5. Write a Python program to count the number of strings from a given list of strings. The string length is 2 or more and the first and last characters are the same.\n",
        "# Sample List : ['abc', 'xyz', 'aba', '1221']\n",
        "# Expected Result : 2\n"
      ]
    },
    {
      "cell_type": "code",
      "source": [
        "def sum_list(lst):\n",
        "    return sum(lst)\n",
        "num_list = [1, 2, 3, 4]\n",
        "print(\"Sum:\", sum_list(num_list))"
      ],
      "metadata": {
        "colab": {
          "base_uri": "https://localhost:8080/"
        },
        "id": "SGo1cdHZTGYj",
        "outputId": "d0a0f16a-1474-4cff-81e7-5fb3db4a2567"
      },
      "execution_count": null,
      "outputs": [
        {
          "output_type": "stream",
          "name": "stdout",
          "text": [
            "Sum: 10\n"
          ]
        }
      ]
    },
    {
      "cell_type": "code",
      "source": [
        "def multiply_list(lst):\n",
        "    result = 1\n",
        "    for item in lst:\n",
        "        result *= item\n",
        "    return result\n",
        "num_list = [1, 2, 3, 4]\n",
        "print(\"Product:\", multiply_list(num_list))"
      ],
      "metadata": {
        "colab": {
          "base_uri": "https://localhost:8080/"
        },
        "id": "bhi6bdd7TWP6",
        "outputId": "400ef615-9b7c-4973-86e0-51371b75a78c"
      },
      "execution_count": null,
      "outputs": [
        {
          "output_type": "stream",
          "name": "stdout",
          "text": [
            "Product: 24\n"
          ]
        }
      ]
    },
    {
      "cell_type": "code",
      "source": [
        "def max_in_list(lst):\n",
        "    return max(lst)\n",
        "\n",
        "num_list = [1, 2, 3, 4]\n",
        "print(\"Max:\", max_in_list(num_list))"
      ],
      "metadata": {
        "colab": {
          "base_uri": "https://localhost:8080/"
        },
        "id": "5ZP_iA4YTbBq",
        "outputId": "8c6567c0-8f78-4498-edae-a0441e0bc96a"
      },
      "execution_count": null,
      "outputs": [
        {
          "output_type": "stream",
          "name": "stdout",
          "text": [
            "Max: 4\n"
          ]
        }
      ]
    },
    {
      "cell_type": "code",
      "source": [
        "def min_in_list(lst):\n",
        "    return min(lst)\n",
        "\n",
        "num_list = [1, 2, 3, 4]\n",
        "print(\"Min:\", min_in_list(num_list))"
      ],
      "metadata": {
        "colab": {
          "base_uri": "https://localhost:8080/"
        },
        "id": "jMESM6E1Tcum",
        "outputId": "cff95502-9436-440f-dba1-8eb52edbdee1"
      },
      "execution_count": null,
      "outputs": [
        {
          "output_type": "stream",
          "name": "stdout",
          "text": [
            "Min: 1\n"
          ]
        }
      ]
    },
    {
      "cell_type": "code",
      "source": [
        "def count_matching_strings(strings):\n",
        "    count = 0\n",
        "    for s in strings:\n",
        "        if len(s) >= 2 and s[0] == s[-1]:\n",
        "            count += 1\n",
        "    return count\n",
        "\n",
        "string_list = ['abc', 'xyz', 'aba', '1221']\n",
        "print(\"Matching strings count:\", count_matching_strings(string_list))"
      ],
      "metadata": {
        "colab": {
          "base_uri": "https://localhost:8080/"
        },
        "id": "GWsE_g2zTg3X",
        "outputId": "61c9f6a6-4639-46b9-b815-6831e7733829"
      },
      "execution_count": null,
      "outputs": [
        {
          "output_type": "stream",
          "name": "stdout",
          "text": [
            "Matching strings count: 2\n"
          ]
        }
      ]
    },
    {
      "cell_type": "markdown",
      "source": [
        "#Tuple"
      ],
      "metadata": {
        "id": "zk-ntyW48PYV"
      }
    },
    {
      "cell_type": "code",
      "source": [
        "# 1. Write a Python program to create a tuple.\n",
        "# 2. Write a Python program to create a tuple with different data types.\n",
        "# 3 .Write a Python program to create a tuple of numbers and print one item.\n",
        "# 4. Write a Python program to unpack a tuple into several variables.\n",
        "# 5. Write a Python program to add an item to a tuple.\n",
        "# 6. Write a Python program to convert a tuple to a string.\n",
        "# 7. Write a Python program to get the 4th element from the last element of a tuple.\n",
        "# 8. Write a Python program to create the colon of a tuple."
      ],
      "metadata": {
        "id": "hkZ12rlS8R1v"
      },
      "execution_count": null,
      "outputs": []
    },
    {
      "cell_type": "code",
      "source": [
        "my_tuple = (1, 2, 3, 4)\n",
        "print(\"Tuple:\", my_tuple)"
      ],
      "metadata": {
        "colab": {
          "base_uri": "https://localhost:8080/"
        },
        "id": "fVlIG7oKTud0",
        "outputId": "10863726-a4b4-493c-add6-20d1de410b34"
      },
      "execution_count": null,
      "outputs": [
        {
          "output_type": "stream",
          "name": "stdout",
          "text": [
            "Tuple: (1, 2, 3, 4)\n"
          ]
        }
      ]
    },
    {
      "cell_type": "code",
      "source": [
        "mixed_tuple = (1, \"hello\", 3.14, True)\n",
        "print(\"Mixed Tuple:\", mixed_tuple)\n"
      ],
      "metadata": {
        "colab": {
          "base_uri": "https://localhost:8080/"
        },
        "id": "R_zjz8MhTw2m",
        "outputId": "37c6282b-8472-4918-b18c-00039cd40b77"
      },
      "execution_count": null,
      "outputs": [
        {
          "output_type": "stream",
          "name": "stdout",
          "text": [
            "Mixed Tuple: (1, 'hello', 3.14, True)\n"
          ]
        }
      ]
    },
    {
      "cell_type": "code",
      "source": [
        "numbers = (10, 20, 30, 40, 50)\n",
        "print(\"One item:\", numbers[2])  # printing the third item\n"
      ],
      "metadata": {
        "colab": {
          "base_uri": "https://localhost:8080/"
        },
        "id": "M8Y347iPTxKa",
        "outputId": "ec782f4d-e6a5-47ae-9d95-8e056246e5b5"
      },
      "execution_count": null,
      "outputs": [
        {
          "output_type": "stream",
          "name": "stdout",
          "text": [
            "One item: 30\n"
          ]
        }
      ]
    },
    {
      "cell_type": "code",
      "source": [
        "person = (\"John\", 25, \"Engineer\")\n",
        "name, age, profession = person\n",
        "print(\"Name:\", name)\n",
        "print(\"Age:\", age)\n",
        "print(\"Profession:\", profession)\n"
      ],
      "metadata": {
        "colab": {
          "base_uri": "https://localhost:8080/"
        },
        "id": "cFqZ3uCxTxVt",
        "outputId": "e34c9bf7-a0de-4861-f900-67445b6cfcea"
      },
      "execution_count": null,
      "outputs": [
        {
          "output_type": "stream",
          "name": "stdout",
          "text": [
            "Name: John\n",
            "Age: 25\n",
            "Profession: Engineer\n"
          ]
        }
      ]
    },
    {
      "cell_type": "code",
      "source": [
        "original = (1, 2, 3)\n",
        "new_item = 4\n",
        "updated = original + (new_item,)\n",
        "print(\"Updated Tuple:\", updated)\n"
      ],
      "metadata": {
        "colab": {
          "base_uri": "https://localhost:8080/"
        },
        "id": "PXZPgN1DTu7W",
        "outputId": "6b08e8ee-ae88-43e6-e602-9a6aa9879938"
      },
      "execution_count": null,
      "outputs": [
        {
          "output_type": "stream",
          "name": "stdout",
          "text": [
            "Updated Tuple: (1, 2, 3, 4)\n"
          ]
        }
      ]
    },
    {
      "cell_type": "code",
      "source": [
        "chars = ('P', 'y', 't', 'h', 'o', 'n')\n",
        "string = ''.join(chars)\n",
        "print(\"String:\", string)\n"
      ],
      "metadata": {
        "colab": {
          "base_uri": "https://localhost:8080/"
        },
        "id": "tYvANhW2Tvjq",
        "outputId": "6f43812f-1429-4ee6-fe84-716100c56a2d"
      },
      "execution_count": null,
      "outputs": [
        {
          "output_type": "stream",
          "name": "stdout",
          "text": [
            "String: Python\n"
          ]
        }
      ]
    },
    {
      "cell_type": "code",
      "source": [
        "sample = (10, 20, 30, 40, 50, 60, 70, 80)\n",
        "# -1 = last, -4 = 4th from last\n",
        "print(\"4th element from last:\", sample[-4])\n"
      ],
      "metadata": {
        "colab": {
          "base_uri": "https://localhost:8080/"
        },
        "id": "1ceT6-dVTv2t",
        "outputId": "db41f8bc-59b6-4a64-8787-868ae2e2d646"
      },
      "execution_count": null,
      "outputs": [
        {
          "output_type": "stream",
          "name": "stdout",
          "text": [
            "4th element from last: 50\n"
          ]
        }
      ]
    },
    {
      "cell_type": "code",
      "source": [
        "original = (1, 2, 3, 4)\n",
        "clone = original[:]\n",
        "print(\"Cloned Tuple:\", clone)\n"
      ],
      "metadata": {
        "colab": {
          "base_uri": "https://localhost:8080/"
        },
        "id": "i7jWhDgmTv-I",
        "outputId": "263aefd3-ed1d-4843-ded5-db7ee5fe1fa1"
      },
      "execution_count": null,
      "outputs": [
        {
          "output_type": "stream",
          "name": "stdout",
          "text": [
            "Cloned Tuple: (1, 2, 3, 4)\n"
          ]
        }
      ]
    },
    {
      "cell_type": "markdown",
      "source": [
        "#set"
      ],
      "metadata": {
        "id": "kfmiIQMM8uuz"
      }
    },
    {
      "cell_type": "code",
      "source": [
        "# 1. Write a Python program to create a set.\n",
        "# 2. Write a Python program to iterate over sets\n",
        "# 3. Write a Python program to add member(s) to a set.\n",
        "# 4. Write a Python program to remove item(s) from a given set.\n",
        "# 5. Write a Python program to remove an item from a set if it is present in the set.\n",
        "# 6. Write a Python program to create an intersection of sets.\n",
        "# 7. Write a Python program to create a symmetric difference of sets.\n",
        "# 8. Write a Python program to find the maximum and minimum values in a set."
      ],
      "metadata": {
        "id": "J2F_f4dI8wMr"
      },
      "execution_count": null,
      "outputs": []
    },
    {
      "cell_type": "code",
      "source": [
        "my_set = {1, 2, 3, 4}\n",
        "print(\"Set:\", my_set)\n"
      ],
      "metadata": {
        "colab": {
          "base_uri": "https://localhost:8080/"
        },
        "id": "FdO7LneWT_Xs",
        "outputId": "67884e6e-a737-459e-c8d4-03f3437e6bcf"
      },
      "execution_count": null,
      "outputs": [
        {
          "output_type": "stream",
          "name": "stdout",
          "text": [
            "Set: {1, 2, 3, 4}\n"
          ]
        }
      ]
    },
    {
      "cell_type": "code",
      "source": [
        "my_set = {10, 20, 30, 40}\n",
        "for item in my_set:\n",
        "    print(\"Item:\", item)\n"
      ],
      "metadata": {
        "colab": {
          "base_uri": "https://localhost:8080/"
        },
        "id": "G6aRsfiLT_eW",
        "outputId": "ca3605fe-3dad-4f02-8b09-1ebff4b14259"
      },
      "execution_count": null,
      "outputs": [
        {
          "output_type": "stream",
          "name": "stdout",
          "text": [
            "Item: 40\n",
            "Item: 10\n",
            "Item: 20\n",
            "Item: 30\n"
          ]
        }
      ]
    },
    {
      "cell_type": "code",
      "source": [
        "my_set = {1, 2, 3}\n",
        "my_set.add(4)  # add single item\n",
        "my_set.update([5, 6])  # add multiple items\n",
        "print(\"Updated Set:\", my_set)\n"
      ],
      "metadata": {
        "colab": {
          "base_uri": "https://localhost:8080/"
        },
        "id": "kwVclTqOT_lN",
        "outputId": "82912e36-e81f-45a0-e6b0-928879614c08"
      },
      "execution_count": null,
      "outputs": [
        {
          "output_type": "stream",
          "name": "stdout",
          "text": [
            "Updated Set: {1, 2, 3, 4, 5, 6}\n"
          ]
        }
      ]
    },
    {
      "cell_type": "code",
      "source": [
        "my_set = {1, 2, 3, 4, 5}\n",
        "my_set.remove(3)  # raises error if not found\n",
        "my_set.discard(10)  # no error if item not found\n",
        "print(\"After removal:\", my_set)\n"
      ],
      "metadata": {
        "colab": {
          "base_uri": "https://localhost:8080/"
        },
        "id": "Wi2u2pxxT_s0",
        "outputId": "de76c3da-69c3-45e1-fcfc-be0e00708078"
      },
      "execution_count": null,
      "outputs": [
        {
          "output_type": "stream",
          "name": "stdout",
          "text": [
            "After removal: {1, 2, 4, 5}\n"
          ]
        }
      ]
    },
    {
      "cell_type": "code",
      "source": [
        "my_set = {1, 2, 3, 4}\n",
        "item_to_remove = 3\n",
        "if item_to_remove in my_set:\n",
        "    my_set.remove(item_to_remove)\n",
        "print(\"Set after conditional removal:\", my_set)\n"
      ],
      "metadata": {
        "colab": {
          "base_uri": "https://localhost:8080/"
        },
        "id": "DlZd8P1tT_7c",
        "outputId": "6d78e60c-46f3-4e82-d16c-1d64c1c65035"
      },
      "execution_count": null,
      "outputs": [
        {
          "output_type": "stream",
          "name": "stdout",
          "text": [
            "Set after conditional removal: {1, 2, 4}\n"
          ]
        }
      ]
    },
    {
      "cell_type": "code",
      "source": [
        "set1 = {1, 2, 3, 4}\n",
        "set2 = {3, 4, 5, 6}\n",
        "intersection = set1 & set2\n",
        "print(\"Intersection:\", intersection)\n"
      ],
      "metadata": {
        "colab": {
          "base_uri": "https://localhost:8080/"
        },
        "id": "kYhltt4mUAEr",
        "outputId": "f45d3e4d-58ef-4fcc-f31a-42efe80f1f8b"
      },
      "execution_count": null,
      "outputs": [
        {
          "output_type": "stream",
          "name": "stdout",
          "text": [
            "Intersection: {3, 4}\n"
          ]
        }
      ]
    },
    {
      "cell_type": "code",
      "source": [
        "set1 = {1, 2, 3}\n",
        "set2 = {3, 4, 5}\n",
        "sym_diff = set1 ^ set2\n",
        "print(\"Symmetric Difference:\", sym_diff)\n"
      ],
      "metadata": {
        "colab": {
          "base_uri": "https://localhost:8080/"
        },
        "id": "8hiUmRrQUANL",
        "outputId": "13dd9e0d-44fd-4580-992b-30aa0af8af82"
      },
      "execution_count": null,
      "outputs": [
        {
          "output_type": "stream",
          "name": "stdout",
          "text": [
            "Symmetric Difference: {1, 2, 4, 5}\n"
          ]
        }
      ]
    },
    {
      "cell_type": "code",
      "source": [
        "my_set = {10, 20, 5, 30, 15}\n",
        "print(\"Maximum:\", max(my_set))\n",
        "print(\"Minimum:\", min(my_set))\n"
      ],
      "metadata": {
        "colab": {
          "base_uri": "https://localhost:8080/"
        },
        "id": "hmB4He0tUAUe",
        "outputId": "f6a5597a-5ad9-46ca-ad54-e43c6fea2bfe"
      },
      "execution_count": null,
      "outputs": [
        {
          "output_type": "stream",
          "name": "stdout",
          "text": [
            "Maximum: 30\n",
            "Minimum: 5\n"
          ]
        }
      ]
    },
    {
      "cell_type": "markdown",
      "source": [
        "#doubt"
      ],
      "metadata": {
        "id": "qnBhFD7V4cot"
      }
    },
    {
      "cell_type": "code",
      "source": [
        "#5. Write a Python program to count the number of strings from a given list of strings. The string length is 2 or more and the first and last characters are the same.\n",
        "# Sample List : ['abc', 'xyz', 'aba', '1221']\n",
        "\n",
        "\n",
        "\n",
        "#take the given list and assign to a variable\n",
        "a = ['abc', 'xyz', 'aba', '1221']\n",
        "#for counting the intialisation count must be zero so take count as a varible and assign it with zero\n",
        "count = 0\n",
        "#run a for loop to give the condition  1.The string length is 2 or more for that i have used i is greater than 1 means string must have 2 letters\n",
        "#2nd  condition:- the first and last characters are the same. for that i am using indexing[0] = indexing[-1] -->last character\n",
        "for i in a:\n",
        "  if len(i) > 1 and i[0] == i[-1]:\n",
        "    count += 1     #count = count + 1\n",
        "print(count)"
      ],
      "metadata": {
        "colab": {
          "base_uri": "https://localhost:8080/"
        },
        "id": "oVOP7lGr4afW",
        "outputId": "a91e2680-cdba-4235-e834-7a5cc3d6c2db"
      },
      "execution_count": null,
      "outputs": [
        {
          "output_type": "stream",
          "name": "stdout",
          "text": [
            "2\n"
          ]
        }
      ]
    },
    {
      "cell_type": "code",
      "source": [
        "#Write a Python program to get a list, sorted in increasing order by the last element in each tuple from a given list of non-empty tuples.\n",
        "# Sample List : [(2, 5), (1, 2), (4, 4), (2, 3), (2, 1)]\n",
        "# Expected Result : [(2, 1), (1, 2), (2, 3), (4, 4), (2, 5)]\n",
        "\n",
        "#We can do this one in functions please don't do it\n",
        "\n",
        "\n",
        "# Define a function called 'last' that takes a single argument 'n' and returns the last element of 'n'\n",
        "def last(n):\n",
        "    return n[-1]\n",
        "\n",
        "# Define a function called 'sort_list_last' that takes a list of tuples 'tuples' as input\n",
        "def sort_list_last(tuples):\n",
        "    # Sort the list of tuples 'tuples' using the 'last' function as the key for sorting\n",
        "    return sorted(tuples, key=last)\n",
        "\n",
        "# Call the 'sort_list_last' function with a list of tuples as input and print the sorted result\n",
        "print(sort_list_last([(2, 5), (1, 2), (4, 4), (2, 3), (2, 1)]))\n"
      ],
      "metadata": {
        "id": "Iwq0n9aJ4bdk"
      },
      "execution_count": null,
      "outputs": []
    },
    {
      "cell_type": "code",
      "source": [
        "# 8. Write a Python program to create the colon of a tuple.\n",
        "a = (\"hi\",2,4,[],'apple')\n",
        "#deepcopy\n",
        "from copy import deepcopy\n",
        "a_colon = deepcopy(a)\n",
        "\n",
        "a_colon[3].append(8)\n",
        "\n",
        "print(a_colon)\n",
        "\n"
      ],
      "metadata": {
        "colab": {
          "base_uri": "https://localhost:8080/"
        },
        "id": "sgPYy6FNTI41",
        "outputId": "65347ec1-986f-418f-a411-220702634568"
      },
      "execution_count": null,
      "outputs": [
        {
          "output_type": "stream",
          "name": "stdout",
          "text": [
            "('hi', 2, 4, [8], 'apple')\n"
          ]
        }
      ]
    },
    {
      "cell_type": "code",
      "source": [
        "e = (1,2,3,4)\n",
        "a,b,c,d = e\n",
        "print(e[0])\n",
        "print"
      ],
      "metadata": {
        "id": "_27q5PQxVSmN"
      },
      "execution_count": null,
      "outputs": []
    },
    {
      "cell_type": "code",
      "source": [
        "a = [1,2,3,4,5,6,7,8,9]\n",
        "new = []\n",
        "for i in a:\n",
        "  new.append(i*2)\n",
        "print(new)"
      ],
      "metadata": {
        "colab": {
          "base_uri": "https://localhost:8080/"
        },
        "id": "a9SZ7JmMbJ09",
        "outputId": "c3d4f5c6-a758-4982-ec62-151af2726788"
      },
      "execution_count": null,
      "outputs": [
        {
          "output_type": "stream",
          "name": "stdout",
          "text": [
            "[2, 4, 6, 8, 10, 12, 14, 16, 18]\n"
          ]
        }
      ]
    },
    {
      "cell_type": "code",
      "source": [
        "for i in a:\n",
        "  print(i*2,end=\",\")"
      ],
      "metadata": {
        "colab": {
          "base_uri": "https://localhost:8080/"
        },
        "id": "280vTI2mbNbi",
        "outputId": "2bdec940-1694-4a2a-afd1-dec9fa141c60"
      },
      "execution_count": null,
      "outputs": [
        {
          "output_type": "stream",
          "name": "stdout",
          "text": [
            "2,4,6,8,10,12,14,16,18,"
          ]
        }
      ]
    },
    {
      "cell_type": "code",
      "source": [
        "total = 1\n",
        "for i in a:\n",
        "  total = total*i\n",
        "print(total)"
      ],
      "metadata": {
        "colab": {
          "base_uri": "https://localhost:8080/"
        },
        "id": "J-qkpdO2br4e",
        "outputId": "0891360c-df8a-4fbe-daf6-6a1f50427345"
      },
      "execution_count": null,
      "outputs": [
        {
          "output_type": "stream",
          "name": "stdout",
          "text": [
            "362880\n"
          ]
        }
      ]
    },
    {
      "cell_type": "code",
      "source": [],
      "metadata": {
        "id": "EmcIrS8gb3cy"
      },
      "execution_count": null,
      "outputs": []
    }
  ]
}