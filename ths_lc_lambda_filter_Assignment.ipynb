{
  "nbformat": 4,
  "nbformat_minor": 0,
  "metadata": {
    "colab": {
      "provenance": [],
      "include_colab_link": true
    },
    "kernelspec": {
      "name": "python3",
      "display_name": "Python 3"
    },
    "language_info": {
      "name": "python"
    }
  },
  "cells": [
    {
      "cell_type": "markdown",
      "metadata": {
        "id": "view-in-github",
        "colab_type": "text"
      },
      "source": [
        "<a href=\"https://colab.research.google.com/github/harshithsai218/GENAI/blob/main/ths_lc_lambda_filter_Assignment.ipynb\" target=\"_parent\"><img src=\"https://colab.research.google.com/assets/colab-badge.svg\" alt=\"Open In Colab\"/></a>"
      ]
    },
    {
      "cell_type": "markdown",
      "source": [
        "1. Write a Python program to create a lambda function that adds 15 to a given number passed in as an argument, also create a lambda function that multiplies argument x with argument y and prints the result.\n",
        "\n",
        "Sample Output:\n",
        "\n",
        "25\n",
        "\n",
        "48"
      ],
      "metadata": {
        "id": "BAGO6mMnt1ZG"
      }
    },
    {
      "cell_type": "code",
      "execution_count": null,
      "metadata": {
        "id": "I_tj-bccthYG",
        "colab": {
          "base_uri": "https://localhost:8080/"
        },
        "outputId": "b66bdc4f-759a-4a98-c27a-a80188bdc651"
      },
      "outputs": [
        {
          "output_type": "stream",
          "name": "stdout",
          "text": [
            "25\n"
          ]
        }
      ],
      "source": [
        "def f1():\n",
        "  return lambda x:x+15\n",
        "\n",
        "sum=f1()\n",
        "print(sum(10))"
      ]
    },
    {
      "cell_type": "code",
      "source": [
        "def f2():\n",
        "  return lambda x,y:x*y\n",
        "mul=f2()\n",
        "print(mul(12,4))"
      ],
      "metadata": {
        "id": "BNBsL4o3t9b9",
        "colab": {
          "base_uri": "https://localhost:8080/"
        },
        "outputId": "1c7339e3-13e6-487c-c3b7-8eae655dd401"
      },
      "execution_count": null,
      "outputs": [
        {
          "output_type": "stream",
          "name": "stdout",
          "text": [
            "48\n"
          ]
        }
      ]
    },
    {
      "cell_type": "markdown",
      "source": [
        "2. Write a Python program to create a function that takes one argument, and that argument will be multiplied with an unknown given number.\n",
        "\n",
        "Sample Output:\n",
        "\n",
        "Double the number of 15 = 30\n",
        "\n",
        "Triple the number of 15 = 45\n",
        "\n",
        "Quadruple the number of 15 = 60\n",
        "\n",
        "Quintuple the number 15 = 75"
      ],
      "metadata": {
        "id": "G5090jp3uFGM"
      }
    },
    {
      "cell_type": "code",
      "source": [
        "def f3(n):\n",
        "  return lambda x:x*n\n",
        "double=f3(2)\n",
        "triple=f3(3)\n",
        "quadruple=f3(4)\n",
        "quintuple=f3(5)\n",
        "x=15\n",
        "print(f\"Double the number of {x} =\", double(x))\n",
        "print(f\"Triple the number of {x} =\", triple(x))\n",
        "print(f\"Quadruple the number of {x} =\", quadruple(x))\n",
        "print(f\"Quintuple the number of {x} =\",quintuple(x))"
      ],
      "metadata": {
        "id": "KzW9c0KSuQKJ",
        "colab": {
          "base_uri": "https://localhost:8080/"
        },
        "outputId": "1e07797c-4319-4d12-9574-0cdddc87d177"
      },
      "execution_count": null,
      "outputs": [
        {
          "output_type": "stream",
          "name": "stdout",
          "text": [
            "Double the number of 15 = 30\n",
            "Triple the number of 15 = 45\n",
            "Quadruple the number of 15 = 60\n",
            "Quintuple the number of 15 = 75\n"
          ]
        }
      ]
    },
    {
      "cell_type": "code",
      "source": [],
      "metadata": {
        "id": "y9gIOdrmuQlq"
      },
      "execution_count": null,
      "outputs": []
    },
    {
      "cell_type": "markdown",
      "source": [
        "3.Write a Python program to listify the list of given strings individually using Python map.\n",
        "\n",
        "Create a list named 'color' containing strings representing colors\n",
        "\n",
        "color = ['Red', 'Blue', 'Black', 'White', 'Pink']\n"
      ],
      "metadata": {
        "id": "GoZY61cCuRcr"
      }
    },
    {
      "cell_type": "code",
      "source": [
        "color = ['Red', 'Blue', 'Black', 'White', 'Pink']\n",
        "print(list(map(lambda x:list(x),color)))"
      ],
      "metadata": {
        "id": "hkP8Wg8Iu7br",
        "colab": {
          "base_uri": "https://localhost:8080/"
        },
        "outputId": "18b81533-9702-427b-88be-00915e3ea8de"
      },
      "execution_count": null,
      "outputs": [
        {
          "output_type": "stream",
          "name": "stdout",
          "text": [
            "[['R', 'e', 'd'], ['B', 'l', 'u', 'e'], ['B', 'l', 'a', 'c', 'k'], ['W', 'h', 'i', 't', 'e'], ['P', 'i', 'n', 'k']]\n"
          ]
        }
      ]
    },
    {
      "cell_type": "code",
      "source": [],
      "metadata": {
        "id": "eoLBMRcPu7xt"
      },
      "execution_count": null,
      "outputs": []
    },
    {
      "cell_type": "markdown",
      "source": [
        "4. Write a Python program to create a list containing the power of said number in bases raised to the corresponding number in the index using Python map.\n",
        "\n",
        "Create two lists named 'bases_num' and 'index' containing integer elements\n",
        "\n",
        "bases_num = [10, 20, 30, 40, 50, 60, 70, 80, 90, 100]\n",
        "\n",
        "index = [1, 2, 3, 4, 5, 6, 7, 8, 9, 10]"
      ],
      "metadata": {
        "id": "ZOMMPVdlu-EH"
      }
    },
    {
      "cell_type": "code",
      "source": [
        "bases_num = [10, 20, 30, 40, 50, 60, 70, 80, 90, 100]\n",
        "index = [1, 2, 3, 4, 5, 6, 7, 8, 9, 10]\n",
        "m3 = list(map(lambda a,b:pow(a,b), bases_num,index))\n",
        "print(m3)"
      ],
      "metadata": {
        "id": "qjqRT21ovSyL",
        "colab": {
          "base_uri": "https://localhost:8080/"
        },
        "outputId": "90db6998-e06d-4d45-d735-ca0faa3da8f5"
      },
      "execution_count": null,
      "outputs": [
        {
          "output_type": "stream",
          "name": "stdout",
          "text": [
            "[10, 400, 27000, 2560000, 312500000, 46656000000, 8235430000000, 1677721600000000, 387420489000000000, 100000000000000000000]\n"
          ]
        }
      ]
    },
    {
      "cell_type": "code",
      "source": [],
      "metadata": {
        "id": "dkdO0cjJvTJ9"
      },
      "execution_count": null,
      "outputs": []
    },
    {
      "cell_type": "markdown",
      "source": [
        "Write a Python program to compute the square of the first N Fibonacci numbers, using the map function and generate a list of the numbers.\n",
        "sample inputs:-\n",
        "\n",
        "First 10 Fibonacci numbers:\n",
        "[0, 1, 1, 2, 3, 5, 8, 13, 21, 34]\n",
        "\n",
        "After squaring said numbers of the list:\n",
        "[0, 1, 1, 4, 9, 25, 64, 169, 441, 1156]"
      ],
      "metadata": {
        "id": "2HtiDS8ovTli"
      }
    },
    {
      "cell_type": "code",
      "source": [
        "a,b=0,1\n",
        "c=[0,1]\n",
        "x=int(input(\"Enter range:\"))\n",
        "\n",
        "l=x-2\n",
        "for i in range(l):\n",
        "  d=a+b\n",
        "  c.append(d)\n",
        "  a=b\n",
        "  b=d\n",
        "print(c)\n",
        "print(list(map(lambda x:x**2,c)))"
      ],
      "metadata": {
        "id": "95nSgNadBPvC",
        "colab": {
          "base_uri": "https://localhost:8080/"
        },
        "outputId": "03c79074-2209-4ab6-b512-2cd0de1ff3c1"
      },
      "execution_count": null,
      "outputs": [
        {
          "output_type": "stream",
          "name": "stdout",
          "text": [
            "Enter range:10\n",
            "[0, 1, 1, 2, 3, 5, 8, 13, 21, 34]\n",
            "[0, 1, 1, 4, 9, 25, 64, 169, 441, 1156]\n"
          ]
        }
      ]
    },
    {
      "cell_type": "code",
      "source": [],
      "metadata": {
        "id": "lP4c7Du3BQHn"
      },
      "execution_count": null,
      "outputs": []
    },
    {
      "cell_type": "markdown",
      "source": [
        " Write a Python program to convert a given list of strings into a list of lists using the map function.\n"
      ],
      "metadata": {
        "id": "RqrelJ7KBQi0"
      }
    },
    {
      "cell_type": "code",
      "source": [
        "color = ['Red', 'Blue', 'Black', 'White', 'Pink']\n",
        "print(list(map(lambda x:list(x),color)))"
      ],
      "metadata": {
        "id": "W_09MGCDBhZr",
        "colab": {
          "base_uri": "https://localhost:8080/"
        },
        "outputId": "71421a82-a7d3-41ca-b245-447e73e590ca"
      },
      "execution_count": null,
      "outputs": [
        {
          "output_type": "stream",
          "name": "stdout",
          "text": [
            "[['R', 'e', 'd'], ['B', 'l', 'u', 'e'], ['B', 'l', 'a', 'c', 'k'], ['W', 'h', 'i', 't', 'e'], ['P', 'i', 'n', 'k']]\n"
          ]
        }
      ]
    },
    {
      "cell_type": "code",
      "source": [],
      "metadata": {
        "id": "M_y6ukRRBh2k"
      },
      "execution_count": null,
      "outputs": []
    }
  ]
}