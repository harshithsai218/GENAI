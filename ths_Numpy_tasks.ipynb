{
  "cells": [
    {
      "cell_type": "markdown",
      "metadata": {
        "id": "view-in-github",
        "colab_type": "text"
      },
      "source": [
        "<a href=\"https://colab.research.google.com/github/harshithsai218/GENAI/blob/main/ths_Numpy_tasks.ipynb\" target=\"_parent\"><img src=\"https://colab.research.google.com/assets/colab-badge.svg\" alt=\"Open In Colab\"/></a>"
      ]
    },
    {
      "cell_type": "markdown",
      "metadata": {
        "id": "M3Y7axyc6tUA"
      },
      "source": [
        "# Numpy\n",
        "\n"
      ]
    },
    {
      "cell_type": "markdown",
      "metadata": {
        "id": "8wgSyEqU6tUB"
      },
      "source": [
        "#### 1. Import the numpy package under the name `np` (★☆☆)\n",
        "(**hint**: import … as …)"
      ]
    },
    {
      "cell_type": "code",
      "execution_count": null,
      "metadata": {
        "collapsed": true,
        "id": "U9GhiyON6tUC"
      },
      "outputs": [],
      "source": [
        "import numpy as np"
      ]
    },
    {
      "cell_type": "markdown",
      "metadata": {
        "id": "k3dbHsgz6tUC"
      },
      "source": [
        "#### 2. Print the numpy version and the configuration (★☆☆)\n",
        "(**hint**: np.\\_\\_version\\_\\_, np.show\\_config)"
      ]
    },
    {
      "cell_type": "code",
      "execution_count": null,
      "metadata": {
        "id": "6ilYfk8I6tUD",
        "colab": {
          "base_uri": "https://localhost:8080/",
          "height": 35
        },
        "outputId": "face305a-b900-47e9-a3d5-bb1de5283bed"
      },
      "outputs": [
        {
          "output_type": "execute_result",
          "data": {
            "text/plain": [
              "'2.0.2'"
            ],
            "application/vnd.google.colaboratory.intrinsic+json": {
              "type": "string"
            }
          },
          "metadata": {},
          "execution_count": 3
        }
      ],
      "source": [
        "np.__version__"
      ]
    },
    {
      "cell_type": "code",
      "source": [
        "np.show_config()"
      ],
      "metadata": {
        "colab": {
          "base_uri": "https://localhost:8080/"
        },
        "id": "dwIHCekxT-wN",
        "outputId": "0b97aa22-5d78-498e-f941-afcca9b09ec6"
      },
      "execution_count": null,
      "outputs": [
        {
          "output_type": "stream",
          "name": "stdout",
          "text": [
            "Build Dependencies:\n",
            "  blas:\n",
            "    detection method: pkgconfig\n",
            "    found: true\n",
            "    include directory: /opt/_internal/cpython-3.11.8/lib/python3.11/site-packages/scipy_openblas64/include\n",
            "    lib directory: /opt/_internal/cpython-3.11.8/lib/python3.11/site-packages/scipy_openblas64/lib\n",
            "    name: scipy-openblas\n",
            "    openblas configuration: OpenBLAS 0.3.27  USE64BITINT DYNAMIC_ARCH NO_AFFINITY\n",
            "      Zen MAX_THREADS=64\n",
            "    pc file directory: /project/.openblas\n",
            "    version: 0.3.27\n",
            "  lapack:\n",
            "    detection method: pkgconfig\n",
            "    found: true\n",
            "    include directory: /opt/_internal/cpython-3.11.8/lib/python3.11/site-packages/scipy_openblas64/include\n",
            "    lib directory: /opt/_internal/cpython-3.11.8/lib/python3.11/site-packages/scipy_openblas64/lib\n",
            "    name: scipy-openblas\n",
            "    openblas configuration: OpenBLAS 0.3.27  USE64BITINT DYNAMIC_ARCH NO_AFFINITY\n",
            "      Zen MAX_THREADS=64\n",
            "    pc file directory: /project/.openblas\n",
            "    version: 0.3.27\n",
            "Compilers:\n",
            "  c:\n",
            "    commands: cc\n",
            "    linker: ld.bfd\n",
            "    name: gcc\n",
            "    version: 10.2.1\n",
            "  c++:\n",
            "    commands: c++\n",
            "    linker: ld.bfd\n",
            "    name: gcc\n",
            "    version: 10.2.1\n",
            "  cython:\n",
            "    commands: cython\n",
            "    linker: cython\n",
            "    name: cython\n",
            "    version: 3.0.11\n",
            "Machine Information:\n",
            "  build:\n",
            "    cpu: x86_64\n",
            "    endian: little\n",
            "    family: x86_64\n",
            "    system: linux\n",
            "  host:\n",
            "    cpu: x86_64\n",
            "    endian: little\n",
            "    family: x86_64\n",
            "    system: linux\n",
            "Python Information:\n",
            "  path: /tmp/build-env-zm_4loqi/bin/python\n",
            "  version: '3.11'\n",
            "SIMD Extensions:\n",
            "  baseline:\n",
            "  - SSE\n",
            "  - SSE2\n",
            "  - SSE3\n",
            "  found:\n",
            "  - SSSE3\n",
            "  - SSE41\n",
            "  - POPCNT\n",
            "  - SSE42\n",
            "  - AVX\n",
            "  - F16C\n",
            "  - FMA3\n",
            "  - AVX2\n",
            "  not found:\n",
            "  - AVX512F\n",
            "  - AVX512CD\n",
            "  - AVX512_KNL\n",
            "  - AVX512_KNM\n",
            "  - AVX512_SKX\n",
            "  - AVX512_CLX\n",
            "  - AVX512_CNL\n",
            "  - AVX512_ICL\n",
            "\n"
          ]
        }
      ]
    },
    {
      "cell_type": "markdown",
      "metadata": {
        "id": "H7netaXC6tUD"
      },
      "source": [
        "#### 3. Create a null vector of size 10 (★☆☆)\n",
        "(**hint**: np.zeros)"
      ]
    },
    {
      "cell_type": "code",
      "execution_count": null,
      "metadata": {
        "id": "8P_5MC7o6tUD",
        "colab": {
          "base_uri": "https://localhost:8080/"
        },
        "outputId": "5e1420ae-4ab5-4aed-8d02-86608159642c"
      },
      "outputs": [
        {
          "output_type": "stream",
          "name": "stdout",
          "text": [
            "[0. 0. 0. 0. 0. 0. 0. 0. 0. 0.]\n"
          ]
        }
      ],
      "source": [
        "n=np.zeros(10)\n",
        "print(n)"
      ]
    },
    {
      "cell_type": "markdown",
      "metadata": {
        "id": "7f8cYUya6tUD"
      },
      "source": [
        "#### 4.  How to find the memory size of any array (★☆☆)\n",
        "(**hint**: size, itemsize)"
      ]
    },
    {
      "cell_type": "code",
      "execution_count": null,
      "metadata": {
        "id": "-RgCFiv06tUD",
        "colab": {
          "base_uri": "https://localhost:8080/"
        },
        "outputId": "536c7de8-7677-4a46-abaa-dd36a67c1c44"
      },
      "outputs": [
        {
          "output_type": "stream",
          "name": "stdout",
          "text": [
            "10\n"
          ]
        }
      ],
      "source": [
        "print(n.size)"
      ]
    },
    {
      "cell_type": "markdown",
      "metadata": {
        "id": "hM4RvTOW6tUD"
      },
      "source": [
        "#### 5.  How to get the documentation of the numpy add function from the command line? (★☆☆)\n",
        "(**hint**: np.info)"
      ]
    },
    {
      "cell_type": "code",
      "execution_count": null,
      "metadata": {
        "collapsed": true,
        "id": "A2IQ82-Y6tUE",
        "colab": {
          "base_uri": "https://localhost:8080/"
        },
        "outputId": "47f52953-2aea-4ded-bf1c-c617290d48f2"
      },
      "outputs": [
        {
          "output_type": "stream",
          "name": "stdout",
          "text": [
            "add(x1, x2, /, out=None, *, where=True, casting='same_kind', order='K', dtype=None, subok=True[, signature])\n",
            "\n",
            "Add arguments element-wise.\n",
            "\n",
            "Parameters\n",
            "----------\n",
            "x1, x2 : array_like\n",
            "    The arrays to be added.\n",
            "    If ``x1.shape != x2.shape``, they must be broadcastable to a common\n",
            "    shape (which becomes the shape of the output).\n",
            "out : ndarray, None, or tuple of ndarray and None, optional\n",
            "    A location into which the result is stored. If provided, it must have\n",
            "    a shape that the inputs broadcast to. If not provided or None,\n",
            "    a freshly-allocated array is returned. A tuple (possible only as a\n",
            "    keyword argument) must have length equal to the number of outputs.\n",
            "where : array_like, optional\n",
            "    This condition is broadcast over the input. At locations where the\n",
            "    condition is True, the `out` array will be set to the ufunc result.\n",
            "    Elsewhere, the `out` array will retain its original value.\n",
            "    Note that if an uninitialized `out` array is created via the default\n",
            "    ``out=None``, locations within it where the condition is False will\n",
            "    remain uninitialized.\n",
            "**kwargs\n",
            "    For other keyword-only arguments, see the\n",
            "    :ref:`ufunc docs <ufuncs.kwargs>`.\n",
            "\n",
            "Returns\n",
            "-------\n",
            "add : ndarray or scalar\n",
            "    The sum of `x1` and `x2`, element-wise.\n",
            "    This is a scalar if both `x1` and `x2` are scalars.\n",
            "\n",
            "Notes\n",
            "-----\n",
            "Equivalent to `x1` + `x2` in terms of array broadcasting.\n",
            "\n",
            "Examples\n",
            "--------\n",
            ">>> np.add(1.0, 4.0)\n",
            "5.0\n",
            ">>> x1 = np.arange(9.0).reshape((3, 3))\n",
            ">>> x2 = np.arange(3.0)\n",
            ">>> np.add(x1, x2)\n",
            "array([[  0.,   2.,   4.],\n",
            "       [  3.,   5.,   7.],\n",
            "       [  6.,   8.,  10.]])\n",
            "\n",
            "The ``+`` operator can be used as a shorthand for ``np.add`` on ndarrays.\n",
            "\n",
            ">>> x1 = np.arange(9.0).reshape((3, 3))\n",
            ">>> x2 = np.arange(3.0)\n",
            ">>> x1 + x2\n",
            "array([[ 0.,  2.,  4.],\n",
            "       [ 3.,  5.,  7.],\n",
            "       [ 6.,  8., 10.]])\n",
            "None\n"
          ]
        }
      ],
      "source": [
        "print(np.info(np.add))"
      ]
    },
    {
      "cell_type": "markdown",
      "metadata": {
        "id": "yvvffnKW6tUE"
      },
      "source": [
        "#### 6.  Create a null vector of size 10 but the fifth value which is 1 (★☆☆)\n",
        "(**hint**: array\\[4\\])"
      ]
    },
    {
      "cell_type": "code",
      "execution_count": null,
      "metadata": {
        "id": "HsrkGlci6tUE",
        "colab": {
          "base_uri": "https://localhost:8080/"
        },
        "outputId": "f1b872fb-b5b2-4e39-a8b1-14775e93c730"
      },
      "outputs": [
        {
          "output_type": "stream",
          "name": "stdout",
          "text": [
            "1.0\n"
          ]
        }
      ],
      "source": [
        "n[4]=1\n",
        "print(n[4])"
      ]
    },
    {
      "cell_type": "markdown",
      "metadata": {
        "id": "gUYEGwja6tUE"
      },
      "source": [
        "#### 7.  Create a vector with values ranging from 10 to 49 (★☆☆)\n",
        "(**hint**: np.arange)"
      ]
    },
    {
      "cell_type": "code",
      "execution_count": null,
      "metadata": {
        "id": "4lRl64Uh6tUE",
        "colab": {
          "base_uri": "https://localhost:8080/"
        },
        "outputId": "572a9665-bd81-4344-e321-f3b9f8fbb544"
      },
      "outputs": [
        {
          "output_type": "stream",
          "name": "stdout",
          "text": [
            "[10 11 12 13 14 15 16 17 18 19 20 21 22 23 24 25 26 27 28 29 30 31 32 33\n",
            " 34 35 36 37 38 39 40 41 42 43 44 45 46 47 48 49]\n"
          ]
        }
      ],
      "source": [
        "x=np.arange(10,50)\n",
        "print(x)"
      ]
    },
    {
      "cell_type": "markdown",
      "metadata": {
        "id": "Y6sMpYOR6tUE"
      },
      "source": [
        "#### 8.  Reverse a vector (first element becomes last) (★☆☆)\n",
        "(**hint**: array\\[::-1\\])"
      ]
    },
    {
      "cell_type": "code",
      "execution_count": null,
      "metadata": {
        "id": "kuqX7fsu6tUE",
        "colab": {
          "base_uri": "https://localhost:8080/"
        },
        "outputId": "58f4c360-a9be-47b6-9776-e0355a966dae"
      },
      "outputs": [
        {
          "output_type": "stream",
          "name": "stdout",
          "text": [
            "[49 48 47 46 45 44 43 42 41 40 39 38 37 36 35 34 33 32 31 30 29 28 27 26\n",
            " 25 24 23 22 21 20 19 18 17 16 15 14 13 12 11 10]\n"
          ]
        }
      ],
      "source": [
        "print(x[::-1])"
      ]
    },
    {
      "cell_type": "markdown",
      "metadata": {
        "id": "A8UOTiIa6tUE"
      },
      "source": [
        "#### 9.  Create a 3x3 matrix with values ranging from 0 to 8 (★☆☆)\n",
        "(**hint**: reshape)"
      ]
    },
    {
      "cell_type": "code",
      "execution_count": null,
      "metadata": {
        "id": "Ea9EYq1P6tUF",
        "colab": {
          "base_uri": "https://localhost:8080/"
        },
        "outputId": "662a682a-3c0c-4fa7-bf46-24c8202cfc31"
      },
      "outputs": [
        {
          "output_type": "stream",
          "name": "stdout",
          "text": [
            "[[0 1 2]\n",
            " [3 4 5]\n",
            " [6 7 8]]\n"
          ]
        }
      ],
      "source": [
        "x=np.arange(0,9).reshape(3,3)\n",
        "print(x)"
      ]
    },
    {
      "cell_type": "markdown",
      "metadata": {
        "id": "MiCkQPDA6tUF"
      },
      "source": [
        "#### 10. Find indices of non-zero elements from \\[1,2,0,0,4,0\\] (★☆☆)\n",
        "(**hint**: np.nonzero)"
      ]
    },
    {
      "cell_type": "code",
      "execution_count": null,
      "metadata": {
        "id": "ZjTgEE8M6tUF",
        "colab": {
          "base_uri": "https://localhost:8080/"
        },
        "outputId": "12a172fc-e9cc-4fd4-d9cd-b2e44b45e841"
      },
      "outputs": [
        {
          "output_type": "stream",
          "name": "stdout",
          "text": [
            "(array([0, 1, 4]),)\n",
            "[0 1 4]\n"
          ]
        }
      ],
      "source": [
        "x=[1,2,0,0,4,0]\n",
        "i=np.nonzero(x)\n",
        "print(np.nonzero(x))\n",
        "print(i[0])"
      ]
    },
    {
      "cell_type": "markdown",
      "metadata": {
        "id": "4B7B8yrs6tUF"
      },
      "source": [
        "#### 11. Create a 3x3 identity matrix (★☆☆)\n",
        "(**hint**: np.eye)"
      ]
    },
    {
      "cell_type": "code",
      "execution_count": null,
      "metadata": {
        "id": "Iq2WssH46tUF",
        "colab": {
          "base_uri": "https://localhost:8080/"
        },
        "outputId": "a7bd678b-6926-4599-8a27-3e4f18a2458e"
      },
      "outputs": [
        {
          "output_type": "stream",
          "name": "stdout",
          "text": [
            "[[1. 0. 0.]\n",
            " [0. 1. 0.]\n",
            " [0. 0. 1.]]\n"
          ]
        }
      ],
      "source": [
        "print(np.eye(3))"
      ]
    },
    {
      "cell_type": "markdown",
      "metadata": {
        "id": "4SZBXP-p6tUG"
      },
      "source": [
        "#### 12. Create a 3x3x3 array with random values (★☆☆)\n",
        "(**hint**: np.random.random)"
      ]
    },
    {
      "cell_type": "code",
      "source": [
        "print(np.random.random((3,3,3)))"
      ],
      "metadata": {
        "id": "eVAIvnQf-STc",
        "colab": {
          "base_uri": "https://localhost:8080/"
        },
        "outputId": "d3f37797-dc12-4987-9142-68793fbd5693"
      },
      "execution_count": null,
      "outputs": [
        {
          "output_type": "stream",
          "name": "stdout",
          "text": [
            "[[[0.5398218  0.58192684 0.7570166 ]\n",
            "  [0.27784939 0.42493523 0.86114353]\n",
            "  [0.56467067 0.08358384 0.63434561]]\n",
            "\n",
            " [[0.04155439 0.90869188 0.35408889]\n",
            "  [0.20309229 0.41995594 0.93946837]\n",
            "  [0.73225244 0.2283804  0.76651929]]\n",
            "\n",
            " [[0.1272636  0.26786469 0.26513352]\n",
            "  [0.95622254 0.65633302 0.16833621]\n",
            "  [0.42363988 0.73464725 0.41248154]]]\n"
          ]
        }
      ]
    },
    {
      "cell_type": "code",
      "execution_count": null,
      "metadata": {
        "collapsed": true,
        "id": "sNuj3QaK6tUG"
      },
      "outputs": [],
      "source": []
    },
    {
      "cell_type": "markdown",
      "metadata": {
        "id": "MnCWj5hw6tUG"
      },
      "source": [
        "#### 13. Create a 10x10 array with random values and find the minimum and maximum values (★☆☆)\n",
        "(**hint**: min, max)"
      ]
    },
    {
      "cell_type": "code",
      "execution_count": null,
      "metadata": {
        "id": "6UvTbOfM6tUG",
        "colab": {
          "base_uri": "https://localhost:8080/"
        },
        "outputId": "4ce9ccdb-9c7b-468b-b1df-c52b04f5be63"
      },
      "outputs": [
        {
          "output_type": "stream",
          "name": "stdout",
          "text": [
            "[[0.84930446 0.14088057 0.99782462 0.08061487 0.38994369 0.33076825\n",
            "  0.64963257 0.37518939 0.60304016 0.2461003 ]\n",
            " [0.04707552 0.52426391 0.83935206 0.81446535 0.75907662 0.77902422\n",
            "  0.06248518 0.25464095 0.3119069  0.17540472]\n",
            " [0.25861225 0.29091544 0.57426642 0.9652385  0.89152987 0.11945562\n",
            "  0.62439997 0.82998436 0.82113519 0.448199  ]\n",
            " [0.05127485 0.32729904 0.32693201 0.20275079 0.14567319 0.63497536\n",
            "  0.4376917  0.60642896 0.85183695 0.40005339]\n",
            " [0.18417123 0.63026442 0.33201127 0.86515126 0.97102855 0.59910944\n",
            "  0.49038695 0.88924507 0.1103383  0.99398701]\n",
            " [0.8657296  0.90663983 0.16946045 0.22285741 0.52446587 0.37464809\n",
            "  0.29956383 0.92841071 0.70364693 0.0016882 ]\n",
            " [0.56301342 0.04884929 0.38805535 0.85724444 0.34221971 0.22922571\n",
            "  0.19953687 0.76440274 0.1055325  0.8330552 ]\n",
            " [0.38926774 0.14195252 0.66556909 0.55931067 0.84376396 0.01150236\n",
            "  0.41703524 0.3010059  0.03868408 0.35453551]\n",
            " [0.90255902 0.94037614 0.86739077 0.35952698 0.80916426 0.43096834\n",
            "  0.99038205 0.78819622 0.83265169 0.19098821]\n",
            " [0.95128433 0.74990214 0.50750592 0.97972877 0.70852803 0.01338256\n",
            "  0.76563825 0.25127391 0.9575521  0.27204364]]\n",
            "0.0016881969122635176\n",
            "0.9978246249443834\n"
          ]
        }
      ],
      "source": [
        "m=np.random.random((10,10))\n",
        "print(m)\n",
        "print(m.min())\n",
        "print(m.max())"
      ]
    },
    {
      "cell_type": "markdown",
      "metadata": {
        "id": "3jk8yIOT6tUG"
      },
      "source": [
        "#### 14. Create a random vector of size 30 and find the mean value (★☆☆)\n",
        "(**hint**: mean)"
      ]
    },
    {
      "cell_type": "code",
      "execution_count": null,
      "metadata": {
        "id": "la4yb1U46tUG",
        "colab": {
          "base_uri": "https://localhost:8080/"
        },
        "outputId": "43171468-724c-487f-cbf6-1815ac0a75d0"
      },
      "outputs": [
        {
          "output_type": "stream",
          "name": "stdout",
          "text": [
            "[0.13982438 0.06188096 0.65733159 0.40874152 0.4234758  0.11476258\n",
            " 0.9282357  0.90134403 0.9140307  0.75873355 0.34041703 0.69097269\n",
            " 0.91701925 0.91711908 0.73648774 0.41028788 0.75131452 0.3892036\n",
            " 0.78301836 0.88609243 0.48197819 0.20502269 0.88775225 0.37399535\n",
            " 0.15144835 0.8160177  0.76735226 0.74438929 0.26307629 0.30397173]\n",
            "0.5708432504524031\n"
          ]
        }
      ],
      "source": [
        "m=np.random.random((30))\n",
        "print(m)\n",
        "print(m.mean())"
      ]
    },
    {
      "cell_type": "markdown",
      "metadata": {
        "id": "RISW2K6d6tUG"
      },
      "source": [
        "#### 15. Create a 2d array with 1 on the border and 0 inside (★☆☆)\n",
        "(**hint**: array\\[1:-1, 1:-1\\])"
      ]
    },
    {
      "cell_type": "code",
      "execution_count": null,
      "metadata": {
        "id": "XTsElr8p6tUH",
        "colab": {
          "base_uri": "https://localhost:8080/"
        },
        "outputId": "36f67f77-d10e-458e-d23c-37bbce12ecf5"
      },
      "outputs": [
        {
          "output_type": "stream",
          "name": "stdout",
          "text": [
            "[[1. 1. 1. 1. 1.]\n",
            " [1. 0. 0. 0. 1.]\n",
            " [1. 0. 0. 0. 1.]\n",
            " [1. 0. 0. 0. 1.]\n",
            " [1. 1. 1. 1. 1.]]\n"
          ]
        }
      ],
      "source": [
        "n=np.ones((5,5))\n",
        "n[1:-1,1:-1]=0\n",
        "c=np.pad(n,,'constant',constant_values=(5))\n",
        "print(c)\n",
        "print(n)"
      ]
    },
    {
      "cell_type": "markdown",
      "metadata": {
        "id": "JiOt4-eE6tUH"
      },
      "source": [
        "#### 16. How to add a border (filled with 0's) around an existing array? (★☆☆)\n",
        "(**hint**: np.pad)"
      ]
    },
    {
      "cell_type": "code",
      "execution_count": null,
      "metadata": {
        "id": "xz4smDzf6tUH",
        "colab": {
          "base_uri": "https://localhost:8080/"
        },
        "outputId": "c8493872-17b6-4b05-b682-839a667ee57b"
      },
      "outputs": [
        {
          "output_type": "stream",
          "name": "stdout",
          "text": [
            "[[1 1 2 3 1]\n",
            " [1 1 2 3 1]\n",
            " [4 4 5 6 4]\n",
            " [7 7 8 9 7]\n",
            " [1 1 2 3 1]]\n"
          ]
        }
      ],
      "source": [
        "n=np.array([[1,2,3],[4,5,6],[7,8,9]])\n",
        "print(np.pad(n,1,'minimum'))"
      ]
    },
    {
      "cell_type": "markdown",
      "metadata": {
        "id": "15w6tuAl6tUH"
      },
      "source": [
        "#### 17. What is the result of the following expression? (★☆☆)\n",
        "(**hint**: NaN = not a number, inf = infinity)"
      ]
    },
    {
      "cell_type": "markdown",
      "metadata": {
        "id": "C1Deg9Pw6tUH"
      },
      "source": [
        "```python\n",
        "0 * np.nan\n",
        "np.nan == np.nan\n",
        "np.inf > np.nan\n",
        "np.nan - np.nan\n",
        "0.3 == 3 * 0.1\n",
        "```"
      ]
    },
    {
      "cell_type": "code",
      "execution_count": null,
      "metadata": {
        "id": "584C8OOj6tUH",
        "colab": {
          "base_uri": "https://localhost:8080/"
        },
        "outputId": "fd9ba047-e145-411a-f934-0be72bcbbc67"
      },
      "outputs": [
        {
          "output_type": "stream",
          "name": "stdout",
          "text": [
            "nan\n",
            "False\n",
            "False\n",
            "nan\n",
            "False\n"
          ]
        }
      ],
      "source": [
        "print(0*np.nan)\n",
        "print(np.nan==np.nan)\n",
        "print(np.inf>np.nan)\n",
        "print(np.nan-np.nan)\n",
        "print(0.3==3*0.1)"
      ]
    },
    {
      "cell_type": "markdown",
      "metadata": {
        "id": "0kXvFBEM6tUH"
      },
      "source": [
        "#### 18. Create a 5x5 matrix with values 1,2,3,4 just below the diagonal (★☆☆)\n",
        "(**hint**: np.diag)"
      ]
    },
    {
      "cell_type": "code",
      "execution_count": null,
      "metadata": {
        "id": "w9zbuNiW6tUH",
        "colab": {
          "base_uri": "https://localhost:8080/"
        },
        "outputId": "c5cb0217-df40-4ed6-fd33-2f84545d605e"
      },
      "outputs": [
        {
          "output_type": "stream",
          "name": "stdout",
          "text": [
            "[[0 0 0 0 0]\n",
            " [1 0 0 0 0]\n",
            " [0 2 0 0 0]\n",
            " [0 0 3 0 0]\n",
            " [0 0 0 4 0]]\n"
          ]
        }
      ],
      "source": [
        "x=np.diag([1,2,3,4],-1)\n",
        "print(x)"
      ]
    },
    {
      "cell_type": "markdown",
      "metadata": {
        "id": "xks4UXLn6tUH"
      },
      "source": [
        "#### 19. Create a 8x8 matrix and fill it with a checkerboard pattern (★☆☆)\n",
        "(**hint**: array\\[::2\\])"
      ]
    },
    {
      "cell_type": "code",
      "execution_count": null,
      "metadata": {
        "id": "PX7iQcU06tUI",
        "colab": {
          "base_uri": "https://localhost:8080/"
        },
        "outputId": "e07d0b1e-24d5-42ed-ff95-47a2200ce978"
      },
      "outputs": [
        {
          "output_type": "stream",
          "name": "stdout",
          "text": [
            "[[0. 1. 0. 1. 0. 1. 0. 1.]\n",
            " [1. 0. 1. 0. 1. 0. 1. 0.]\n",
            " [0. 1. 0. 1. 0. 1. 0. 1.]\n",
            " [1. 0. 1. 0. 1. 0. 1. 0.]\n",
            " [0. 1. 0. 1. 0. 1. 0. 1.]\n",
            " [1. 0. 1. 0. 1. 0. 1. 0.]\n",
            " [0. 1. 0. 1. 0. 1. 0. 1.]\n",
            " [1. 0. 1. 0. 1. 0. 1. 0.]]\n"
          ]
        }
      ],
      "source": [
        "x=np.zeros((8,8))\n",
        "x[::2,1::2]=1\n",
        "x[1::2,::2]=1\n",
        "print(x)"
      ]
    },
    {
      "cell_type": "markdown",
      "metadata": {
        "id": "ph2l3CeN6tUI"
      },
      "source": [
        "#### 20. Consider a (6,7,8) shape array, what is the index (x,y,z) of the 100th element?\n",
        "(**hint**: np.unravel_index)"
      ]
    },
    {
      "cell_type": "code",
      "execution_count": null,
      "metadata": {
        "id": "zEvcNYiS6tUI",
        "colab": {
          "base_uri": "https://localhost:8080/",
          "height": 158
        },
        "outputId": "88d1a3f6-15ed-4042-c12a-e940fc810af9"
      },
      "outputs": [
        {
          "output_type": "error",
          "ename": "NameError",
          "evalue": "name 'np' is not defined",
          "traceback": [
            "\u001b[0;31m---------------------------------------------------------------------------\u001b[0m",
            "\u001b[0;31mNameError\u001b[0m                                 Traceback (most recent call last)",
            "\u001b[0;32m<ipython-input-1-d21e8ee61fb6>\u001b[0m in \u001b[0;36m<cell line: 0>\u001b[0;34m()\u001b[0m\n\u001b[0;32m----> 1\u001b[0;31m \u001b[0mx\u001b[0m\u001b[0;34m=\u001b[0m \u001b[0mnp\u001b[0m\u001b[0;34m.\u001b[0m\u001b[0munravel_index\u001b[0m\u001b[0;34m(\u001b[0m\u001b[0;36m100\u001b[0m\u001b[0;34m,\u001b[0m\u001b[0;34m(\u001b[0m\u001b[0;36m6\u001b[0m\u001b[0;34m,\u001b[0m\u001b[0;36m7\u001b[0m\u001b[0;34m,\u001b[0m\u001b[0;36m8\u001b[0m\u001b[0;34m)\u001b[0m\u001b[0;34m)\u001b[0m\u001b[0;34m\u001b[0m\u001b[0;34m\u001b[0m\u001b[0m\n\u001b[0m\u001b[1;32m      2\u001b[0m \u001b[0mprint\u001b[0m\u001b[0;34m(\u001b[0m\u001b[0mx\u001b[0m\u001b[0;34m)\u001b[0m\u001b[0;34m\u001b[0m\u001b[0;34m\u001b[0m\u001b[0m\n",
            "\u001b[0;31mNameError\u001b[0m: name 'np' is not defined"
          ]
        }
      ],
      "source": [
        "x= np.unravel_index(100,(6,7,8))\n",
        "print(x)"
      ]
    },
    {
      "cell_type": "markdown",
      "metadata": {
        "id": "Y6nMkfY96tUI"
      },
      "source": [
        "#### 21. Create a checkerboard 8x8 matrix using the tile function (★☆☆)\n",
        "(**hint**: np.tile)"
      ]
    },
    {
      "cell_type": "code",
      "source": [
        "x=np.tile(np.array([[0,1],[1,0]]),(4,4))\n",
        "print(x)"
      ],
      "metadata": {
        "id": "NtGBJi-G-gCA",
        "colab": {
          "base_uri": "https://localhost:8080/"
        },
        "outputId": "36358a48-d0a2-4429-beb7-c902c679282f"
      },
      "execution_count": null,
      "outputs": [
        {
          "output_type": "stream",
          "name": "stdout",
          "text": [
            "[[0 1 0 1 0 1 0 1]\n",
            " [1 0 1 0 1 0 1 0]\n",
            " [0 1 0 1 0 1 0 1]\n",
            " [1 0 1 0 1 0 1 0]\n",
            " [0 1 0 1 0 1 0 1]\n",
            " [1 0 1 0 1 0 1 0]\n",
            " [0 1 0 1 0 1 0 1]\n",
            " [1 0 1 0 1 0 1 0]]\n"
          ]
        }
      ]
    },
    {
      "cell_type": "code",
      "execution_count": null,
      "metadata": {
        "id": "X29Ad6Kh6tUI"
      },
      "outputs": [],
      "source": []
    },
    {
      "cell_type": "markdown",
      "metadata": {
        "id": "FnHwVymU6tUJ"
      },
      "source": [
        "#### 22. Normalize a 5x5 random matrix (★☆☆)\n",
        "(**hint**: (x - min) / (max - min))"
      ]
    },
    {
      "cell_type": "code",
      "execution_count": null,
      "metadata": {
        "id": "FqCgvOiI6tUJ",
        "colab": {
          "base_uri": "https://localhost:8080/"
        },
        "outputId": "2e2c71b6-8419-4ec2-c1b2-fb1e64a42213"
      },
      "outputs": [
        {
          "output_type": "stream",
          "name": "stdout",
          "text": [
            "[[0.84057143 0.1694363  0.94708663 0.83899636 0.44338408]\n",
            " [0.73398735 0.65487652 0.23573332 0.45092237 0.83566885]\n",
            " [0.82350646 0.42111788 0.86793415 0.57548602 0.09651815]\n",
            " [0.08203174 0.44565547 0.2660223  0.0049203  0.13338861]\n",
            " [0.29463708 0.41181907 0.01906227 0.41691372 0.15376541]]\n",
            "---\n",
            "[[0.8869465  0.1746146  1.         0.88527475 0.46537832]\n",
            " [0.7738199  0.68985294 0.24498118 0.47337934 0.88174298]\n",
            " [0.86883402 0.44174534 0.91598885 0.60558916 0.09722047]\n",
            " [0.08184483 0.46778913 0.27712941 0.         0.13635417]\n",
            " [0.30750068 0.43187573 0.01501006 0.43728311 0.15798178]]\n"
          ]
        }
      ],
      "source": [
        "x=np.random.random((5,5))\n",
        "q=(x-x.min())/(x.max()-x.min())\n",
        "print(x)\n",
        "print(\"---\")\n",
        "print(q)"
      ]
    },
    {
      "cell_type": "markdown",
      "metadata": {
        "id": "gGrVGvga6tUJ"
      },
      "source": [
        "#### 23. Create a custom dtype that describes a color as four unsigned bytes (RGBA) (★☆☆)\n",
        "(**hint**: np.dtype)"
      ]
    },
    {
      "cell_type": "code",
      "source": [],
      "metadata": {
        "id": "pkb0upNX_Uai"
      },
      "execution_count": null,
      "outputs": []
    },
    {
      "cell_type": "markdown",
      "metadata": {
        "id": "2dvMuIUT6tUJ"
      },
      "source": [
        "#### 24. Multiply a 5x3 matrix by a 3x2 matrix (real matrix product) (★☆☆)\n",
        "(**hint**: np.dot | @)"
      ]
    },
    {
      "cell_type": "code",
      "execution_count": null,
      "metadata": {
        "id": "GViuG1cE6tUJ",
        "colab": {
          "base_uri": "https://localhost:8080/"
        },
        "outputId": "aa02a0eb-0c1f-4e6a-9160-ab2670378c5e"
      },
      "outputs": [
        {
          "output_type": "stream",
          "name": "stdout",
          "text": [
            "[[19 22]\n",
            " [43 50]]\n",
            "[[19 22]\n",
            " [43 50]]\n",
            "[[19 22]\n",
            " [43 50]]\n"
          ]
        }
      ],
      "source": [
        "a=np.array([[1,2],[3,4]])\n",
        "b=np.array([[5,6],[7,8]])\n",
        "print(a@b)\n",
        "print(np.dot(a,b))\n",
        "print(a.dot(b))"
      ]
    },
    {
      "cell_type": "markdown",
      "metadata": {
        "id": "-cW5R0T_6tUJ"
      },
      "source": [
        "#### 25. Given a 1D array, negate all elements which are between 3 and 8, in place. (★☆☆)\n",
        "(**hint**: >, <=)"
      ]
    },
    {
      "cell_type": "code",
      "source": [
        "n=np.arange(10)\n",
        "n[(n>3)&(n<8)]*=-1\n",
        "print(n)"
      ],
      "metadata": {
        "id": "l6KaRiXtATq5",
        "colab": {
          "base_uri": "https://localhost:8080/"
        },
        "outputId": "9b7dffc7-959b-4085-bc61-a0fbc4234b6f"
      },
      "execution_count": null,
      "outputs": [
        {
          "output_type": "stream",
          "name": "stdout",
          "text": [
            "[ 0  1  2  3 -4 -5 -6 -7  8  9]\n"
          ]
        }
      ]
    },
    {
      "cell_type": "code",
      "execution_count": null,
      "metadata": {
        "id": "8Ga66gbC6tUJ"
      },
      "outputs": [],
      "source": []
    },
    {
      "cell_type": "markdown",
      "metadata": {
        "id": "qp93_Nw16tUJ"
      },
      "source": [
        "#### 26. What is the output of the following script? (★☆☆)\n",
        "(**hint**: np.sum)"
      ]
    },
    {
      "cell_type": "markdown",
      "metadata": {
        "id": "U6mVGlud6tUJ"
      },
      "source": [
        "```python\n",
        "# Author: Jake VanderPlas\n",
        "\n",
        "print(sum(range(5),-1))\n",
        "from numpy import *\n",
        "print(sum(range(5),-1))\n",
        "```"
      ]
    },
    {
      "cell_type": "code",
      "execution_count": null,
      "metadata": {
        "id": "BMye0QEj6tUK",
        "colab": {
          "base_uri": "https://localhost:8080/"
        },
        "outputId": "3840a1eb-4e51-4819-c5d5-2e2dc334a676"
      },
      "outputs": [
        {
          "output_type": "stream",
          "name": "stdout",
          "text": [
            "9\n",
            "10\n"
          ]
        }
      ],
      "source": [
        "print(sum(range(5),-1))\n",
        "from numpy import *\n",
        "print(sum(range(5),-1))"
      ]
    },
    {
      "cell_type": "markdown",
      "metadata": {
        "id": "W_G9eAtm6tUK"
      },
      "source": [
        "#### 27. Consider an integer vector Z, which of these expressions are legal? (★☆☆)"
      ]
    },
    {
      "cell_type": "markdown",
      "metadata": {
        "id": "Se1NFEql6tUK"
      },
      "source": [
        "```python\n",
        "Z**Z\n",
        "2 << Z >> 2\n",
        "Z <- Z\n",
        "1j*Z\n",
        "Z/1/1\n",
        "Z<Z>Z\n",
        "```"
      ]
    },
    {
      "cell_type": "code",
      "execution_count": null,
      "metadata": {
        "id": "8FqfZEwu6tUK",
        "colab": {
          "base_uri": "https://localhost:8080/"
        },
        "outputId": "9b09596f-4a87-4a5a-ad0f-56ee41bf4589"
      },
      "outputs": [
        {
          "output_type": "stream",
          "name": "stdout",
          "text": [
            "10000000000\n",
            "512\n",
            "False\n",
            "10j\n",
            "10.0\n",
            "False\n"
          ]
        }
      ],
      "source": [
        "z=10\n",
        "print(z**z)\n",
        "print(2<<z>>2)\n",
        "print(z<-z)\n",
        "print(1j*z)\n",
        "print(z/1/1)\n",
        "print(z<z>z)"
      ]
    },
    {
      "cell_type": "code",
      "source": [],
      "metadata": {
        "id": "Ewyqq1aRA4t4"
      },
      "execution_count": null,
      "outputs": []
    },
    {
      "cell_type": "markdown",
      "metadata": {
        "id": "Vl-wh4DL6tUK"
      },
      "source": [
        "#### 28. What are the result of the following expressions?"
      ]
    },
    {
      "cell_type": "markdown",
      "metadata": {
        "id": "PUFT77Du6tUL"
      },
      "source": [
        "```python\n",
        "np.array(0) / np.array(0)\n",
        "np.array(0) // np.array(0)\n",
        "np.array([np.nan]).astype(int).astype(float)\n",
        "```"
      ]
    },
    {
      "cell_type": "code",
      "execution_count": null,
      "metadata": {
        "id": "brMk9Ve76tUL",
        "colab": {
          "base_uri": "https://localhost:8080/"
        },
        "outputId": "083cda2b-fafd-462f-ead4-ad0d354c3831"
      },
      "outputs": [
        {
          "output_type": "stream",
          "name": "stdout",
          "text": [
            "nan\n",
            "0\n",
            "[-9.22337204e+18]\n"
          ]
        },
        {
          "output_type": "stream",
          "name": "stderr",
          "text": [
            "<ipython-input-37-6825e7ff5de5>:1: RuntimeWarning: invalid value encountered in divide\n",
            "  x= np.array(0) / np.array(0)\n",
            "<ipython-input-37-6825e7ff5de5>:2: RuntimeWarning: divide by zero encountered in floor_divide\n",
            "  y= np.array(0) // np.array(0)\n",
            "<ipython-input-37-6825e7ff5de5>:3: RuntimeWarning: invalid value encountered in cast\n",
            "  z= np.array([np.nan]).astype(int).astype(float)\n"
          ]
        }
      ],
      "source": [
        "x= np.array(0) / np.array(0)\n",
        "y= np.array(0) // np.array(0)\n",
        "z= np.array([np.nan]).astype(int).astype(float)\n",
        "print(x)\n",
        "print(y)\n",
        "print(z)"
      ]
    },
    {
      "cell_type": "markdown",
      "metadata": {
        "id": "VL0gC16m6tUL"
      },
      "source": [
        "#### 29. How to round away from zero a float array ? (★☆☆)\n",
        "(**hint**: np.uniform, np.copysign, np.ceil, np.abs)"
      ]
    },
    {
      "cell_type": "code",
      "execution_count": null,
      "metadata": {
        "id": "tu8F11D56tUL",
        "colab": {
          "base_uri": "https://localhost:8080/"
        },
        "outputId": "eae40e6b-757b-4d64-c40c-5bc3fa30530e"
      },
      "outputs": [
        {
          "output_type": "stream",
          "name": "stdout",
          "text": [
            "1.0\n"
          ]
        }
      ],
      "source": [
        "z=0.3\n",
        "print(np.ceil(z))"
      ]
    },
    {
      "cell_type": "markdown",
      "metadata": {
        "id": "P1TBNInb6tUL"
      },
      "source": [
        "#### 30. How to find common values between two arrays? (★☆☆)\n",
        "(**hint**: np.intersect1d)"
      ]
    },
    {
      "cell_type": "code",
      "execution_count": null,
      "metadata": {
        "id": "HhzCtraQ6tUL",
        "colab": {
          "base_uri": "https://localhost:8080/"
        },
        "outputId": "1d42c782-cea9-421f-c66f-d2182cb6af8f"
      },
      "outputs": [
        {
          "output_type": "stream",
          "name": "stdout",
          "text": [
            "[2 3 4]\n"
          ]
        }
      ],
      "source": [
        "a = np.array([1,2,3,4])\n",
        "b = np.array([2,3,4,5])\n",
        "x = np.intersect1d(a,b)\n",
        "print(x)"
      ]
    },
    {
      "cell_type": "markdown",
      "metadata": {
        "id": "ZlUSB-P86tUM"
      },
      "source": [
        "#### 31. How to ignore all numpy warnings (not recommended)? (★☆☆)\n",
        "(**hint**: np.seterr, np.errstate)"
      ]
    },
    {
      "cell_type": "code",
      "execution_count": null,
      "metadata": {
        "id": "ciuhrE536tUM"
      },
      "outputs": [],
      "source": []
    },
    {
      "cell_type": "markdown",
      "metadata": {
        "id": "lng3TPdV6tUM"
      },
      "source": [
        "#### 32. Is the following expressions true? (★☆☆)\n",
        "(**hint**: imaginary number)"
      ]
    },
    {
      "cell_type": "markdown",
      "metadata": {
        "id": "FyGTP3Su6tUM"
      },
      "source": [
        "```python\n",
        "np.sqrt(-1) == np.emath.sqrt(-1)\n",
        "```"
      ]
    },
    {
      "cell_type": "code",
      "execution_count": null,
      "metadata": {
        "id": "1xqhqowJ6tUM",
        "colab": {
          "base_uri": "https://localhost:8080/"
        },
        "outputId": "6ab69645-eb71-4aa2-c341-36b435387502"
      },
      "outputs": [
        {
          "output_type": "stream",
          "name": "stdout",
          "text": [
            "False\n"
          ]
        }
      ],
      "source": [
        "print(np.sqrt(-1) == np.emath.sqrt(-1))"
      ]
    },
    {
      "cell_type": "markdown",
      "metadata": {
        "id": "kYCB_DaE6tUM"
      },
      "source": [
        "#### 33. How to get the dates of yesterday, today and tomorrow? (★☆☆)\n",
        "(**hint**: np.datetime64, np.timedelta64)"
      ]
    },
    {
      "cell_type": "code",
      "execution_count": null,
      "metadata": {
        "collapsed": true,
        "id": "nGWMJxmK6tUN",
        "colab": {
          "base_uri": "https://localhost:8080/"
        },
        "outputId": "dee70d4c-d851-43da-f616-663d8e757d5b"
      },
      "outputs": [
        {
          "output_type": "stream",
          "name": "stdout",
          "text": [
            "NaT\n"
          ]
        }
      ],
      "source": [
        "print(np.datetime64())"
      ]
    },
    {
      "cell_type": "markdown",
      "metadata": {
        "id": "hQF_w-IJ6tUN"
      },
      "source": [
        "#### 34. How to get all the dates corresponding to the month of July 2016? (★★☆)\n",
        "(**hint**: np.arange(dtype=datetime64\\['D'\\]))"
      ]
    },
    {
      "cell_type": "code",
      "execution_count": null,
      "metadata": {
        "id": "MFBcJv1z6tUN",
        "colab": {
          "base_uri": "https://localhost:8080/",
          "height": 158
        },
        "outputId": "6c5a5074-f937-4e68-e1ed-f259102a1c85"
      },
      "outputs": [
        {
          "output_type": "error",
          "ename": "TypeError",
          "evalue": "type 'datetime.datetime' is not subscriptable",
          "traceback": [
            "\u001b[0;31m---------------------------------------------------------------------------\u001b[0m",
            "\u001b[0;31mTypeError\u001b[0m                                 Traceback (most recent call last)",
            "\u001b[0;32m<ipython-input-53-9df83503e69e>\u001b[0m in \u001b[0;36m<cell line: 0>\u001b[0;34m()\u001b[0m\n\u001b[1;32m      1\u001b[0m \u001b[0;32mfrom\u001b[0m \u001b[0mdatetime\u001b[0m \u001b[0;32mimport\u001b[0m \u001b[0mdatetime\u001b[0m\u001b[0;34m\u001b[0m\u001b[0;34m\u001b[0m\u001b[0m\n\u001b[0;32m----> 2\u001b[0;31m \u001b[0mprint\u001b[0m\u001b[0;34m(\u001b[0m\u001b[0mnp\u001b[0m\u001b[0;34m.\u001b[0m\u001b[0marange\u001b[0m\u001b[0;34m(\u001b[0m\u001b[0mdtype\u001b[0m\u001b[0;34m=\u001b[0m\u001b[0mdatetime\u001b[0m\u001b[0;34m[\u001b[0m\u001b[0;34m'D'\u001b[0m\u001b[0;34m]\u001b[0m\u001b[0;34m)\u001b[0m\u001b[0;34m)\u001b[0m\u001b[0;34m\u001b[0m\u001b[0;34m\u001b[0m\u001b[0m\n\u001b[0m",
            "\u001b[0;31mTypeError\u001b[0m: type 'datetime.datetime' is not subscriptable"
          ]
        }
      ],
      "source": [
        "from datetime import datetime\n",
        "print(np.arange(dtype=datetime['D']))"
      ]
    },
    {
      "cell_type": "markdown",
      "metadata": {
        "id": "PkJB3T9Q6tUN"
      },
      "source": [
        "#### 35. How to compute ((A+B)\\*(-A/2)) in place (without copy)? (★★☆)\n",
        "(**hint**: np.add(out=), np.negative(out=), np.multiply(out=), np.divide(out=))"
      ]
    },
    {
      "cell_type": "code",
      "source": [],
      "metadata": {
        "id": "6ibTv4FrDI5J"
      },
      "execution_count": null,
      "outputs": []
    },
    {
      "cell_type": "markdown",
      "metadata": {
        "id": "meuSizGI6tUN"
      },
      "source": [
        "#### 36. Extract the integer part of a random array using 5 different methods (★★☆)\n",
        "(**hint**: %, np.floor, np.ceil, astype, np.trunc)"
      ]
    },
    {
      "cell_type": "code",
      "execution_count": null,
      "metadata": {
        "id": "Uo3aibtL6tUN"
      },
      "outputs": [],
      "source": []
    },
    {
      "cell_type": "markdown",
      "metadata": {
        "id": "qQVEs7KM6tUN"
      },
      "source": [
        "#### 37. Create a 5x5 matrix with row values ranging from 0 to 4 (★★☆)\n",
        "(**hint**: np.arange)"
      ]
    },
    {
      "cell_type": "code",
      "execution_count": null,
      "metadata": {
        "id": "Cd7n6Xzp6tUN"
      },
      "outputs": [],
      "source": []
    },
    {
      "cell_type": "markdown",
      "metadata": {
        "id": "dUfZ5h-I6tUN"
      },
      "source": [
        "#### 38. Consider a generator function that generates 10 integers and use it to build an array (★☆☆)\n",
        "(**hint**: np.fromiter)"
      ]
    },
    {
      "cell_type": "code",
      "execution_count": null,
      "metadata": {
        "id": "SgwcfUEm6tUN"
      },
      "outputs": [],
      "source": []
    },
    {
      "cell_type": "markdown",
      "metadata": {
        "id": "CAUZr4Th6tUO"
      },
      "source": [
        "#### 39. Create a vector of size 10 with values ranging from 0 to 1, both excluded (★★☆)\n",
        "(**hint**: np.linspace)"
      ]
    },
    {
      "cell_type": "code",
      "execution_count": null,
      "metadata": {
        "id": "KAIJojkw6tUO",
        "colab": {
          "base_uri": "https://localhost:8080/"
        },
        "outputId": "9fd776c0-9ebc-4abd-b0d9-286675398172"
      },
      "outputs": [
        {
          "output_type": "stream",
          "name": "stdout",
          "text": [
            "[0.46761717 0.62449266 0.29718464 0.82688398 0.67849356 0.50961926\n",
            " 0.91951067 0.41761774 0.17366211 0.62235754]\n",
            "[0.   0.25 0.5  0.75 1.  ]\n"
          ]
        }
      ],
      "source": [
        "x= random.random(10)\n",
        "print(x)\n",
        "a=np.linspace(0,1,5)\n",
        "print(a)"
      ]
    },
    {
      "cell_type": "markdown",
      "metadata": {
        "id": "_eatOnMQ6tUO"
      },
      "source": [
        "#### 40. Create a random vector of size 10 and sort it (★★☆)\n",
        "(**hint**: sort)"
      ]
    },
    {
      "cell_type": "code",
      "execution_count": null,
      "metadata": {
        "id": "fNN_Bz8r6tUO",
        "colab": {
          "base_uri": "https://localhost:8080/"
        },
        "outputId": "c0e54d27-0f13-48b9-f170-2b71c18fd1e4"
      },
      "outputs": [
        {
          "output_type": "stream",
          "name": "stdout",
          "text": [
            "[0.58832721 0.70555607 0.36596439 0.34738987 0.32316943 0.66146591\n",
            " 0.53332946 0.98796221 0.79722266 0.22151236]\n",
            "[0.22151236 0.32316943 0.34738987 0.36596439 0.53332946 0.58832721\n",
            " 0.66146591 0.70555607 0.79722266 0.98796221]\n"
          ]
        }
      ],
      "source": [
        "x= random.random(10)\n",
        "print(x)\n",
        "print(np.sort(x))"
      ]
    }
  ],
  "metadata": {
    "kernelspec": {
      "display_name": "Python 3",
      "language": "python",
      "name": "python3"
    },
    "language_info": {
      "codemirror_mode": {
        "name": "ipython",
        "version": 3
      },
      "file_extension": ".py",
      "mimetype": "text/x-python",
      "name": "python",
      "nbconvert_exporter": "python",
      "pygments_lexer": "ipython3",
      "version": "3.8.3"
    },
    "colab": {
      "provenance": [],
      "include_colab_link": true
    }
  },
  "nbformat": 4,
  "nbformat_minor": 0
}